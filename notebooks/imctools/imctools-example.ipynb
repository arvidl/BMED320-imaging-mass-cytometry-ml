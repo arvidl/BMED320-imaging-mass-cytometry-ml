{
 "cells": [
  {
   "cell_type": "markdown",
   "metadata": {},
   "source": [
    "## imctools-example\n",
    "\n",
    "`imctools` is a python package to handle IMC raw files (.mcd & .txt) and convert them to a vendor independent OME.TIFF format. Further it handles converting OME.TIFF to a variety of other TIFF formats. Can be used in a IMC segmentation pipeline to prepare the data for CellProfiller.\n",
    "\n",
    "(cf. https://github.com/BodenmillerGroup/imctools)\n",
    "\n",
    "The OME.TIFF will have a standardized, yet user controlled (say: modifiable, user generatable vs. vendor controlled, instrument specific) way to store raw data of multiplexed images alongside with acquisition specific metadata in order to make it independent of IMC as a technology. As a user of cyTOF-IMC only data this might be not so important (as long as Fluidigm never changes the .mcd file format), but in the view that maybe one day there will be other multiplexed image technology vendors it might be worth to build the data analysis in a way that starts with a user controlled format. Also if everybody (speak also Ilastik, CellProfiller, HistoCAT's, ImageJ) would respect his open standard, everything would get much more compatible and easier to interface between programs (e.g. dealing with IMC image data as an image5d stack).\n",
    "Unfortunately - despite much talk - the OME.TIFF's are as widely supported (yet) as one would hope. There are some programs that support them e.g. OME.TIFF's generated from IMC can be loaded and viewed in OMERO (https://www.openmicroscopy.org/omero) and are also correctly recognized in FIJI (however the support once loading is till quite cumbersome).\n",
    "\n",
    "- Vito http://www.imc-forum.org/viewtopic.php?f=4&t=7\n",
    "\n",
    "### histoCAT Software for Computational Imaging Mass Cytometry Analysis\n",
    "histoCAT software is an innovative computational IMC analysis toolbox that enables comprehensive analysis of cellular phenotypes and their interrelationships within the spatial context of the tissue microenvironment. Developed in the laboratory of Bernd Bodenmiller at the University of Zurich, histoCAT includes novel algorithms to identify the relationships and “social networks” between cells in healthy and disease states and across experimental cohorts. Under an agreement with the University of Zurich, Fluidigm obtained rights to globally distribute histoCAT along with the Hyperion Imaging System.\n",
    "\n",
    "### histoCAT++\n",
    "\n",
    "See also histoCAT++ -  now commercially distributed by Fluidigm for customers using Hyperion Imaging System for Imaging Mass Cytometry and the histoCAT++ software binaries can also be\n",
    "downloaded [histoCAT++](http://www.bodenmillerlab.org/histoCAT_downloads/histoCAT++.zip) (macOS only) (New version 3.0 – 5 May 2020. With bug fixes, improved memory use, compensation functions enabled, fcs export, better label system for tiles, and adapted for High Sierra. Much smaller download. See also the manual at http://www.bodenmillerlab.org/histoCAT_manual/index.php/manual_plus"
   ]
  },
  {
   "cell_type": "code",
   "execution_count": 2,
   "metadata": {},
   "outputs": [],
   "source": [
    "from imctools.io.mcd.mcdparser import McdParser"
   ]
  },
  {
   "cell_type": "code",
   "execution_count": null,
   "metadata": {},
   "outputs": [],
   "source": [
    "fn_mcd = \"/home/vitoz/Data/varia/201708_instrument_comp/mcd/20170815_imccomp_zoidberg_conc5_acm1.mcd\""
   ]
  },
  {
   "cell_type": "code",
   "execution_count": null,
   "metadata": {},
   "outputs": [],
   "source": [
    "parser = McdParser(fn_mcd)"
   ]
  },
  {
   "cell_type": "code",
   "execution_count": null,
   "metadata": {},
   "outputs": [],
   "source": [
    "# Get original metadata in XML format\n",
    "xml = parser.get_mcd_xml()"
   ]
  },
  {
   "cell_type": "code",
   "execution_count": null,
   "metadata": {},
   "outputs": [],
   "source": [
    "# Get parsed session metadata (i.e. session -> slides -> acquisitions -> channels, panoramas data)\n",
    "session = parser.session"
   ]
  },
  {
   "cell_type": "code",
   "execution_count": null,
   "metadata": {},
   "outputs": [],
   "source": [
    "# Get all acquisition IDs\n",
    "ids = parser.session.acquisition_ids"
   ]
  },
  {
   "cell_type": "code",
   "execution_count": null,
   "metadata": {},
   "outputs": [],
   "source": [
    "# The common class to represent a single IMC acquisition is AcquisitionData class.\n",
    "# Get acquisition data for acquisition with id 2\n",
    "ac_data = parser.get_acquisition_data(2)"
   ]
  },
  {
   "cell_type": "code",
   "execution_count": null,
   "metadata": {},
   "outputs": [],
   "source": [
    "# imc acquisitions can yield the image data by name (tag), label or index\n",
    "channel_image1 = ac_data.get_image_by_name('Ir191')\n",
    "channel_image2 = ac_data.get_image_by_label('Histone_phospho_125((2468))Eu153')\n",
    "channel_image3 = ac_data.get_image_by_index(7)"
   ]
  },
  {
   "cell_type": "code",
   "execution_count": null,
   "metadata": {},
   "outputs": [],
   "source": [
    "# or can be used to save OME-TIFF files\n",
    "fn_out ='/home/vitoz/temp/test.ome.tiff'\n",
    "ac_data.save_ome_tiff(fn_out, names=['Ir191', 'Yb172'])"
   ]
  },
  {
   "cell_type": "code",
   "execution_count": null,
   "metadata": {},
   "outputs": [],
   "source": [
    "# save multiple standard TIFF files in a folder\n",
    "ac_data.save_tiffs(\"/home/anton/tiffs\", compression=0, bigtiff=False)"
   ]
  },
  {
   "cell_type": "code",
   "execution_count": null,
   "metadata": {},
   "outputs": [],
   "source": [
    "# as the mcd object is using lazy loading memory maps, it needs to be closed\n",
    "# or used with a context manager.\n",
    "parser.close()"
   ]
  }
 ],
 "metadata": {
  "kernelspec": {
   "display_name": "IMC",
   "language": "python",
   "name": "imc"
  },
  "language_info": {
   "codemirror_mode": {
    "name": "ipython",
    "version": 3
   },
   "file_extension": ".py",
   "mimetype": "text/x-python",
   "name": "python",
   "nbconvert_exporter": "python",
   "pygments_lexer": "ipython3",
   "version": "3.7.9"
  }
 },
 "nbformat": 4,
 "nbformat_minor": 4
}
